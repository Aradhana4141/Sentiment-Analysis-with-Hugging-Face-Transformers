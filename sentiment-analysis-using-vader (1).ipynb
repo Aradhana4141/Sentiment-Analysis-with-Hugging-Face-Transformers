{
 "cells": [
  {
   "cell_type": "code",
   "execution_count": 1,
   "id": "7762afd0",
   "metadata": {
    "_cell_guid": "b1076dfc-b9ad-4769-8c92-a6c4dae69d19",
    "_uuid": "8f2839f25d086af736a60e9eeb907d3b93b6e0e5",
    "execution": {
     "iopub.execute_input": "2025-10-24T16:32:53.091624Z",
     "iopub.status.busy": "2025-10-24T16:32:53.090781Z",
     "iopub.status.idle": "2025-10-24T16:32:55.030401Z",
     "shell.execute_reply": "2025-10-24T16:32:55.029372Z"
    },
    "papermill": {
     "duration": 1.946643,
     "end_time": "2025-10-24T16:32:55.031926",
     "exception": false,
     "start_time": "2025-10-24T16:32:53.085283",
     "status": "completed"
    },
    "tags": []
   },
   "outputs": [
    {
     "name": "stdout",
     "output_type": "stream",
     "text": [
      "/kaggle/input/disneyland-reviews/DisneylandReviews.csv\n"
     ]
    }
   ],
   "source": [
    "# This Python 3 environment comes with many helpful analytics libraries installed\n",
    "# It is defined by the kaggle/python Docker image: https://github.com/kaggle/docker-python\n",
    "# For example, here's several helpful packages to load\n",
    "\n",
    "import numpy as np # linear algebra\n",
    "import pandas as pd # data processing, CSV file I/O (e.g. pd.read_csv)\n",
    "\n",
    "# Input data files are available in the read-only \"../input/\" directory\n",
    "# For example, running this (by clicking run or pressing Shift+Enter) will list all files under the input directory\n",
    "\n",
    "import os\n",
    "for dirname, _, filenames in os.walk('/kaggle/input'):\n",
    "    for filename in filenames:\n",
    "        print(os.path.join(dirname, filename))\n",
    "\n",
    "# You can write up to 20GB to the current directory (/kaggle/working/) that gets preserved as output when you create a version using \"Save & Run All\" \n",
    "# You can also write temporary files to /kaggle/temp/, but they won't be saved outside of the current session"
   ]
  },
  {
   "cell_type": "markdown",
   "id": "b8bb2413",
   "metadata": {
    "papermill": {
     "duration": 0.003193,
     "end_time": "2025-10-24T16:32:55.039032",
     "exception": false,
     "start_time": "2025-10-24T16:32:55.035839",
     "status": "completed"
    },
    "tags": []
   },
   "source": [
    "# Importing Libraries"
   ]
  },
  {
   "cell_type": "code",
   "execution_count": 2,
   "id": "7743ed66",
   "metadata": {
    "execution": {
     "iopub.execute_input": "2025-10-24T16:32:55.047200Z",
     "iopub.status.busy": "2025-10-24T16:32:55.046747Z",
     "iopub.status.idle": "2025-10-24T16:32:57.753564Z",
     "shell.execute_reply": "2025-10-24T16:32:57.752529Z"
    },
    "papermill": {
     "duration": 2.712749,
     "end_time": "2025-10-24T16:32:57.755290",
     "exception": false,
     "start_time": "2025-10-24T16:32:55.042541",
     "status": "completed"
    },
    "tags": []
   },
   "outputs": [],
   "source": [
    "import pandas as pd\n",
    "import numpy as np\n",
    "import matplotlib.pyplot as plt\n",
    "import seaborn as sns\n",
    "plt.style.use('ggplot')\n",
    "import nltk"
   ]
  },
  {
   "cell_type": "markdown",
   "id": "9a9ac84c",
   "metadata": {
    "papermill": {
     "duration": 0.003385,
     "end_time": "2025-10-24T16:32:57.762515",
     "exception": false,
     "start_time": "2025-10-24T16:32:57.759130",
     "status": "completed"
    },
    "tags": []
   },
   "source": [
    "# Uploading the Dataset"
   ]
  },
  {
   "cell_type": "code",
   "execution_count": 3,
   "id": "d42ff86b",
   "metadata": {
    "execution": {
     "iopub.execute_input": "2025-10-24T16:32:57.771119Z",
     "iopub.status.busy": "2025-10-24T16:32:57.770641Z",
     "iopub.status.idle": "2025-10-24T16:32:58.692316Z",
     "shell.execute_reply": "2025-10-24T16:32:58.691421Z"
    },
    "papermill": {
     "duration": 0.927503,
     "end_time": "2025-10-24T16:32:58.693710",
     "exception": false,
     "start_time": "2025-10-24T16:32:57.766207",
     "status": "completed"
    },
    "tags": []
   },
   "outputs": [
    {
     "name": "stdout",
     "output_type": "stream",
     "text": [
      "(42656, 6)\n"
     ]
    },
    {
     "data": {
      "text/html": [
       "<div>\n",
       "<style scoped>\n",
       "    .dataframe tbody tr th:only-of-type {\n",
       "        vertical-align: middle;\n",
       "    }\n",
       "\n",
       "    .dataframe tbody tr th {\n",
       "        vertical-align: top;\n",
       "    }\n",
       "\n",
       "    .dataframe thead th {\n",
       "        text-align: right;\n",
       "    }\n",
       "</style>\n",
       "<table border=\"1\" class=\"dataframe\">\n",
       "  <thead>\n",
       "    <tr style=\"text-align: right;\">\n",
       "      <th></th>\n",
       "      <th>Review_ID</th>\n",
       "      <th>Rating</th>\n",
       "      <th>Year_Month</th>\n",
       "      <th>Reviewer_Location</th>\n",
       "      <th>Review_Text</th>\n",
       "      <th>Branch</th>\n",
       "    </tr>\n",
       "  </thead>\n",
       "  <tbody>\n",
       "    <tr>\n",
       "      <th>0</th>\n",
       "      <td>670772142</td>\n",
       "      <td>4</td>\n",
       "      <td>2019-4</td>\n",
       "      <td>Australia</td>\n",
       "      <td>If you've ever been to Disneyland anywhere you...</td>\n",
       "      <td>Disneyland_HongKong</td>\n",
       "    </tr>\n",
       "    <tr>\n",
       "      <th>1</th>\n",
       "      <td>670682799</td>\n",
       "      <td>4</td>\n",
       "      <td>2019-5</td>\n",
       "      <td>Philippines</td>\n",
       "      <td>Its been a while since d last time we visit HK...</td>\n",
       "      <td>Disneyland_HongKong</td>\n",
       "    </tr>\n",
       "    <tr>\n",
       "      <th>2</th>\n",
       "      <td>670623270</td>\n",
       "      <td>4</td>\n",
       "      <td>2019-4</td>\n",
       "      <td>United Arab Emirates</td>\n",
       "      <td>Thanks God it wasn   t too hot or too humid wh...</td>\n",
       "      <td>Disneyland_HongKong</td>\n",
       "    </tr>\n",
       "    <tr>\n",
       "      <th>3</th>\n",
       "      <td>670607911</td>\n",
       "      <td>4</td>\n",
       "      <td>2019-4</td>\n",
       "      <td>Australia</td>\n",
       "      <td>HK Disneyland is a great compact park. Unfortu...</td>\n",
       "      <td>Disneyland_HongKong</td>\n",
       "    </tr>\n",
       "    <tr>\n",
       "      <th>4</th>\n",
       "      <td>670607296</td>\n",
       "      <td>4</td>\n",
       "      <td>2019-4</td>\n",
       "      <td>United Kingdom</td>\n",
       "      <td>the location is not in the city, took around 1...</td>\n",
       "      <td>Disneyland_HongKong</td>\n",
       "    </tr>\n",
       "  </tbody>\n",
       "</table>\n",
       "</div>"
      ],
      "text/plain": [
       "   Review_ID  Rating Year_Month     Reviewer_Location  \\\n",
       "0  670772142       4     2019-4             Australia   \n",
       "1  670682799       4     2019-5           Philippines   \n",
       "2  670623270       4     2019-4  United Arab Emirates   \n",
       "3  670607911       4     2019-4             Australia   \n",
       "4  670607296       4     2019-4        United Kingdom   \n",
       "\n",
       "                                         Review_Text               Branch  \n",
       "0  If you've ever been to Disneyland anywhere you...  Disneyland_HongKong  \n",
       "1  Its been a while since d last time we visit HK...  Disneyland_HongKong  \n",
       "2  Thanks God it wasn   t too hot or too humid wh...  Disneyland_HongKong  \n",
       "3  HK Disneyland is a great compact park. Unfortu...  Disneyland_HongKong  \n",
       "4  the location is not in the city, took around 1...  Disneyland_HongKong  "
      ]
     },
     "execution_count": 3,
     "metadata": {},
     "output_type": "execute_result"
    }
   ],
   "source": [
    "df=pd.read_csv(\"/kaggle/input/disneyland-reviews/DisneylandReviews.csv\",encoding='latin1')\n",
    "print(df.shape)\n",
    "df.head(5)"
   ]
  },
  {
   "cell_type": "markdown",
   "id": "e0f29a0a",
   "metadata": {
    "papermill": {
     "duration": 0.003633,
     "end_time": "2025-10-24T16:32:58.701178",
     "exception": false,
     "start_time": "2025-10-24T16:32:58.697545",
     "status": "completed"
    },
    "tags": []
   },
   "source": [
    "# Sorting according to rates"
   ]
  },
  {
   "cell_type": "code",
   "execution_count": 4,
   "id": "acee9701",
   "metadata": {
    "execution": {
     "iopub.execute_input": "2025-10-24T16:32:58.709703Z",
     "iopub.status.busy": "2025-10-24T16:32:58.709296Z",
     "iopub.status.idle": "2025-10-24T16:32:59.021143Z",
     "shell.execute_reply": "2025-10-24T16:32:59.020160Z"
    },
    "papermill": {
     "duration": 0.317646,
     "end_time": "2025-10-24T16:32:59.022511",
     "exception": false,
     "start_time": "2025-10-24T16:32:58.704865",
     "status": "completed"
    },
    "tags": []
   },
   "outputs": [
    {
     "data": {
      "image/png": "[encoded data removed]",
      "text/plain": [
       "<Figure size 1000x600 with 1 Axes>"
      ]
     },
     "metadata": {},
     "output_type": "display_data"
    }
   ],
   "source": [
    "ax=df['Rating'].value_counts().sort_index() \\\n",
    ".plot(kind=\"bar\",\n",
    "       title ='Count of Reviews by Stars',\n",
    "       figsize=(10,6))\n",
    "ax.set_xlabel('Review_Text')\n",
    "plt.show()"
   ]
  },
  {
   "cell_type": "markdown",
   "id": "3a6e51bb",
   "metadata": {
    "papermill": {
     "duration": 0.003634,
     "end_time": "2025-10-24T16:32:59.030099",
     "exception": false,
     "start_time": "2025-10-24T16:32:59.026465",
     "status": "completed"
    },
    "tags": []
   },
   "source": [
    "# Importing SentimentIntensityAnalyzer & tqdm"
   ]
  },
  {
   "cell_type": "code",
   "execution_count": 5,
   "id": "5778f41e",
   "metadata": {
    "execution": {
     "iopub.execute_input": "2025-10-24T16:32:59.039178Z",
     "iopub.status.busy": "2025-10-24T16:32:59.038548Z",
     "iopub.status.idle": "2025-10-24T16:32:59.098916Z",
     "shell.execute_reply": "2025-10-24T16:32:59.097974Z"
    },
    "papermill": {
     "duration": 0.066618,
     "end_time": "2025-10-24T16:32:59.100579",
     "exception": false,
     "start_time": "2025-10-24T16:32:59.033961",
     "status": "completed"
    },
    "tags": []
   },
   "outputs": [],
   "source": [
    "from nltk.sentiment import SentimentIntensityAnalyzer\n",
    "from tqdm.notebook import tqdm\n",
    "\n",
    "sa=SentimentIntensityAnalyzer()"
   ]
  },
  {
   "cell_type": "markdown",
   "id": "2f8da0ef",
   "metadata": {
    "papermill": {
     "duration": 0.003555,
     "end_time": "2025-10-24T16:32:59.108230",
     "exception": false,
     "start_time": "2025-10-24T16:32:59.104675",
     "status": "completed"
    },
    "tags": []
   },
   "source": [
    "# Apply Sentimental Analysis on a Sample Dataset"
   ]
  },
  {
   "cell_type": "code",
   "execution_count": 6,
   "id": "dc63bd0a",
   "metadata": {
    "execution": {
     "iopub.execute_input": "2025-10-24T16:32:59.117212Z",
     "iopub.status.busy": "2025-10-24T16:32:59.116580Z",
     "iopub.status.idle": "2025-10-24T16:32:59.127758Z",
     "shell.execute_reply": "2025-10-24T16:32:59.127021Z"
    },
    "papermill": {
     "duration": 0.017195,
     "end_time": "2025-10-24T16:32:59.129199",
     "exception": false,
     "start_time": "2025-10-24T16:32:59.112004",
     "status": "completed"
    },
    "tags": []
   },
   "outputs": [],
   "source": [
    "sample_df = df.sample(n=10000, random_state=42).reset_index(drop=True)"
   ]
  },
  {
   "cell_type": "code",
   "execution_count": 7,
   "id": "d34a5702",
   "metadata": {
    "execution": {
     "iopub.execute_input": "2025-10-24T16:32:59.138263Z",
     "iopub.status.busy": "2025-10-24T16:32:59.137670Z",
     "iopub.status.idle": "2025-10-24T16:33:12.708384Z",
     "shell.execute_reply": "2025-10-24T16:33:12.707532Z"
    },
    "papermill": {
     "duration": 13.576909,
     "end_time": "2025-10-24T16:33:12.710025",
     "exception": false,
     "start_time": "2025-10-24T16:32:59.133116",
     "status": "completed"
    },
    "tags": []
   },
   "outputs": [
    {
     "data": {
      "application/vnd.jupyter.widget-view+json": {
       "model_id": "2a16d745ab874e279dfec3aef51e50da",
       "version_major": 2,
       "version_minor": 0
      },
      "text/plain": [
       "  0%|          | 0/10000 [00:00<?, ?it/s]"
      ]
     },
     "metadata": {},
     "output_type": "display_data"
    }
   ],
   "source": [
    "res={}\n",
    "for i,row in tqdm(sample_df.iterrows(),total=len(sample_df)):\n",
    "    text=row['Review_Text']\n",
    "    myid=row['Review_ID']\n",
    "    res[myid]=sa.polarity_scores(text)"
   ]
  },
  {
   "cell_type": "markdown",
   "id": "d710ae24",
   "metadata": {
    "papermill": {
     "duration": 0.003846,
     "end_time": "2025-10-24T16:33:12.718377",
     "exception": false,
     "start_time": "2025-10-24T16:33:12.714531",
     "status": "completed"
    },
    "tags": []
   },
   "source": [
    "# DataFrame of Result"
   ]
  },
  {
   "cell_type": "code",
   "execution_count": 8,
   "id": "50b2737e",
   "metadata": {
    "execution": {
     "iopub.execute_input": "2025-10-24T16:33:12.728279Z",
     "iopub.status.busy": "2025-10-24T16:33:12.727596Z",
     "iopub.status.idle": "2025-10-24T16:33:12.987011Z",
     "shell.execute_reply": "2025-10-24T16:33:12.986020Z"
    },
    "papermill": {
     "duration": 0.266198,
     "end_time": "2025-10-24T16:33:12.988744",
     "exception": false,
     "start_time": "2025-10-24T16:33:12.722546",
     "status": "completed"
    },
    "tags": []
   },
   "outputs": [],
   "source": [
    "result_table=pd.DataFrame(res).T"
   ]
  },
  {
   "cell_type": "code",
   "execution_count": 9,
   "id": "9d5d9595",
   "metadata": {
    "execution": {
     "iopub.execute_input": "2025-10-24T16:33:12.998295Z",
     "iopub.status.busy": "2025-10-24T16:33:12.997983Z",
     "iopub.status.idle": "2025-10-24T16:33:13.011945Z",
     "shell.execute_reply": "2025-10-24T16:33:13.011173Z"
    },
    "papermill": {
     "duration": 0.020346,
     "end_time": "2025-10-24T16:33:13.013362",
     "exception": false,
     "start_time": "2025-10-24T16:33:12.993016",
     "status": "completed"
    },
    "tags": []
   },
   "outputs": [
    {
     "data": {
      "text/html": [
       "<div>\n",
       "<style scoped>\n",
       "    .dataframe tbody tr th:only-of-type {\n",
       "        vertical-align: middle;\n",
       "    }\n",
       "\n",
       "    .dataframe tbody tr th {\n",
       "        vertical-align: top;\n",
       "    }\n",
       "\n",
       "    .dataframe thead th {\n",
       "        text-align: right;\n",
       "    }\n",
       "</style>\n",
       "<table border=\"1\" class=\"dataframe\">\n",
       "  <thead>\n",
       "    <tr style=\"text-align: right;\">\n",
       "      <th></th>\n",
       "      <th>neg</th>\n",
       "      <th>neu</th>\n",
       "      <th>pos</th>\n",
       "      <th>compound</th>\n",
       "    </tr>\n",
       "  </thead>\n",
       "  <tbody>\n",
       "    <tr>\n",
       "      <th>540713188</th>\n",
       "      <td>0.000</td>\n",
       "      <td>0.626</td>\n",
       "      <td>0.374</td>\n",
       "      <td>0.9670</td>\n",
       "    </tr>\n",
       "    <tr>\n",
       "      <th>119781124</th>\n",
       "      <td>0.059</td>\n",
       "      <td>0.767</td>\n",
       "      <td>0.174</td>\n",
       "      <td>0.9280</td>\n",
       "    </tr>\n",
       "    <tr>\n",
       "      <th>576395715</th>\n",
       "      <td>0.057</td>\n",
       "      <td>0.573</td>\n",
       "      <td>0.370</td>\n",
       "      <td>0.9186</td>\n",
       "    </tr>\n",
       "    <tr>\n",
       "      <th>310041955</th>\n",
       "      <td>0.000</td>\n",
       "      <td>0.669</td>\n",
       "      <td>0.331</td>\n",
       "      <td>0.9165</td>\n",
       "    </tr>\n",
       "    <tr>\n",
       "      <th>184009554</th>\n",
       "      <td>0.000</td>\n",
       "      <td>0.831</td>\n",
       "      <td>0.169</td>\n",
       "      <td>0.9663</td>\n",
       "    </tr>\n",
       "    <tr>\n",
       "      <th>...</th>\n",
       "      <td>...</td>\n",
       "      <td>...</td>\n",
       "      <td>...</td>\n",
       "      <td>...</td>\n",
       "    </tr>\n",
       "    <tr>\n",
       "      <th>142724802</th>\n",
       "      <td>0.050</td>\n",
       "      <td>0.654</td>\n",
       "      <td>0.295</td>\n",
       "      <td>0.9719</td>\n",
       "    </tr>\n",
       "    <tr>\n",
       "      <th>18852457</th>\n",
       "      <td>0.056</td>\n",
       "      <td>0.789</td>\n",
       "      <td>0.154</td>\n",
       "      <td>0.9926</td>\n",
       "    </tr>\n",
       "    <tr>\n",
       "      <th>120766139</th>\n",
       "      <td>0.000</td>\n",
       "      <td>0.862</td>\n",
       "      <td>0.138</td>\n",
       "      <td>0.9168</td>\n",
       "    </tr>\n",
       "    <tr>\n",
       "      <th>332571576</th>\n",
       "      <td>0.022</td>\n",
       "      <td>0.862</td>\n",
       "      <td>0.116</td>\n",
       "      <td>0.9909</td>\n",
       "    </tr>\n",
       "    <tr>\n",
       "      <th>141950021</th>\n",
       "      <td>0.042</td>\n",
       "      <td>0.792</td>\n",
       "      <td>0.166</td>\n",
       "      <td>0.9731</td>\n",
       "    </tr>\n",
       "  </tbody>\n",
       "</table>\n",
       "<p>9999 rows × 4 columns</p>\n",
       "</div>"
      ],
      "text/plain": [
       "             neg    neu    pos  compound\n",
       "540713188  0.000  0.626  0.374    0.9670\n",
       "119781124  0.059  0.767  0.174    0.9280\n",
       "576395715  0.057  0.573  0.370    0.9186\n",
       "310041955  0.000  0.669  0.331    0.9165\n",
       "184009554  0.000  0.831  0.169    0.9663\n",
       "...          ...    ...    ...       ...\n",
       "142724802  0.050  0.654  0.295    0.9719\n",
       "18852457   0.056  0.789  0.154    0.9926\n",
       "120766139  0.000  0.862  0.138    0.9168\n",
       "332571576  0.022  0.862  0.116    0.9909\n",
       "141950021  0.042  0.792  0.166    0.9731\n",
       "\n",
       "[9999 rows x 4 columns]"
      ]
     },
     "execution_count": 9,
     "metadata": {},
     "output_type": "execute_result"
    }
   ],
   "source": [
    "result_table"
   ]
  },
  {
   "cell_type": "markdown",
   "id": "0f643b45",
   "metadata": {
    "papermill": {
     "duration": 0.004024,
     "end_time": "2025-10-24T16:33:13.021983",
     "exception": false,
     "start_time": "2025-10-24T16:33:13.017959",
     "status": "completed"
    },
    "tags": []
   },
   "source": [
    "# Calculating Accuracy "
   ]
  },
  {
   "cell_type": "code",
   "execution_count": 10,
   "id": "6b1e9953",
   "metadata": {
    "execution": {
     "iopub.execute_input": "2025-10-24T16:33:13.032213Z",
     "iopub.status.busy": "2025-10-24T16:33:13.031372Z",
     "iopub.status.idle": "2025-10-24T16:33:13.050605Z",
     "shell.execute_reply": "2025-10-24T16:33:13.049636Z"
    },
    "papermill": {
     "duration": 0.025899,
     "end_time": "2025-10-24T16:33:13.052098",
     "exception": false,
     "start_time": "2025-10-24T16:33:13.026199",
     "status": "completed"
    },
    "tags": []
   },
   "outputs": [
    {
     "name": "stdout",
     "output_type": "stream",
     "text": [
      "VADER Accuracy: 0.7631763176317632\n"
     ]
    }
   ],
   "source": [
    "import numpy as np\n",
    "from sklearn.metrics import accuracy_score\n",
    "\n",
    "\n",
    "min_len = min(len(sample_df), len(result_table))\n",
    "sample_df = sample_df.reset_index(drop=True).iloc[:min_len]\n",
    "result_table = result_table.reset_index(drop=True).iloc[:min_len]\n",
    "\n",
    "\n",
    "def compound_to_sentiment(compound):\n",
    "    if compound >= 0.05:\n",
    "        return 2  # positive\n",
    "    elif compound <= -0.05:\n",
    "        return 0  # negative\n",
    "    else:\n",
    "        return 1  # neutral\n",
    "\n",
    "predicted_labels = result_table['compound'].apply(compound_to_sentiment).values\n",
    "\n",
    "\n",
    "def rating_to_sentiment(rating):\n",
    "    if rating <= 2:\n",
    "        return 0  # negative\n",
    "    elif rating == 3:\n",
    "        return 1  # neutral\n",
    "    else:\n",
    "        return 2  # positive\n",
    "\n",
    "true_labels = sample_df['Rating'].apply(rating_to_sentiment).values\n",
    "\n",
    "\n",
    "accuracy = accuracy_score(true_labels, predicted_labels)\n",
    "print(\"VADER Accuracy:\", accuracy)\n"
   ]
  },
  {
   "cell_type": "markdown",
   "id": "ed3c8b9e",
   "metadata": {
    "papermill": {
     "duration": 0.00416,
     "end_time": "2025-10-24T16:33:13.060881",
     "exception": false,
     "start_time": "2025-10-24T16:33:13.056721",
     "status": "completed"
    },
    "tags": []
   },
   "source": [
    "# Small Example"
   ]
  },
  {
   "cell_type": "code",
   "execution_count": 11,
   "id": "30ba8f9c",
   "metadata": {
    "execution": {
     "iopub.execute_input": "2025-10-24T16:33:13.071274Z",
     "iopub.status.busy": "2025-10-24T16:33:13.070574Z",
     "iopub.status.idle": "2025-10-24T16:33:13.076597Z",
     "shell.execute_reply": "2025-10-24T16:33:13.075799Z"
    },
    "papermill": {
     "duration": 0.012635,
     "end_time": "2025-10-24T16:33:13.077991",
     "exception": false,
     "start_time": "2025-10-24T16:33:13.065356",
     "status": "completed"
    },
    "tags": []
   },
   "outputs": [
    {
     "data": {
      "text/plain": [
       "{'neg': 0.0, 'neu': 0.488, 'pos': 0.512, 'compound': 0.2732}"
      ]
     },
     "execution_count": 11,
     "metadata": {},
     "output_type": "execute_result"
    }
   ],
   "source": [
    "sa.polarity_scores(\"I am doing well\")"
   ]
  }
 ],
 "metadata": {
  "kaggle": {
   "accelerator": "none",
   "dataSources": [
    {
     "datasetId": 1105807,
     "sourceId": 1858576,
     "sourceType": "datasetVersion"
    }
   ],
   "dockerImageVersionId": 31154,
   "isGpuEnabled": false,
   "isInternetEnabled": true,
   "language": "python",
   "sourceType": "notebook"
  },
  "kernelspec": {
   "display_name": "Python 3",
   "language": "python",
   "name": "python3"
  },
  "language_info": {
   "codemirror_mode": {
    "name": "ipython",
    "version": 3
   },
   "file_extension": ".py",
   "mimetype": "text/x-python",
   "name": "python",
   "nbconvert_exporter": "python",
   "pygments_lexer": "ipython3",
   "version": "3.11.13"
  },
  "papermill": {
   "default_parameters": {},
   "duration": 25.358164,
   "end_time": "2025-10-24T16:33:13.802549",
   "environment_variables": {},
   "exception": null,
   "input_path": "__notebook__.ipynb",
   "output_path": "__notebook__.ipynb",
   "parameters": {},
   "start_time": "2025-10-24T16:32:48.444385",
   "version": "2.6.0"
  },
  "widgets": {
   "application/vnd.jupyter.widget-state+json": {
    "state": {
     "0491424390644ec989142c7d87cab608": {
      "model_module": "@jupyter-widgets/controls",
      "model_module_version": "2.0.0",
      "model_name": "HTMLModel",
      "state": {
       "_dom_classes": [],
       "_model_module": "@jupyter-widgets/controls",
       "_model_module_version": "2.0.0",
       "_model_name": "HTMLModel",
       "_view_count": null,
       "_view_module": "@jupyter-widgets/controls",
       "_view_module_version": "2.0.0",
       "_view_name": "HTMLView",
       "description": "",
       "description_allow_html": false,
       "layout": "IPY_MODEL_3c115e4b246442f9af276a4c590226e4",
       "placeholder": "​",
       "style": "IPY_MODEL_c425de47f16346b0b7a975c748645722",
       "tabbable": null,
       "tooltip": null,
       "value": "100%"
      }
     },
     "0d92f594b5724f7c8899e1a3642b5f70": {
      "model_module": "@jupyter-widgets/controls",
      "model_module_version": "2.0.0",
      "model_name": "FloatProgressModel",
      "state": {
       "_dom_classes": [],
       "_model_module": "@jupyter-widgets/controls",
       "_model_module_version": "2.0.0",
       "_model_name": "FloatProgressModel",
       "_view_count": null,
       "_view_module": "@jupyter-widgets/controls",
       "_view_module_version": "2.0.0",
       "_view_name": "ProgressView",
       "bar_style": "success",
       "description": "",
       "description_allow_html": false,
       "layout": "IPY_MODEL_9863b7eb1fec48c4b7f715d86af9d505",
       "max": 10000.0,
       "min": 0.0,
       "orientation": "horizontal",
       "style": "IPY_MODEL_6bcb5bfbaa1d4983bb07310019e75af1",
       "tabbable": null,
       "tooltip": null,
       "value": 10000.0
      }
     },
     "2a16d745ab874e279dfec3aef51e50da": {
      "model_module": "@jupyter-widgets/controls",
      "model_module_version": "2.0.0",
      "model_name": "HBoxModel",
      "state": {
       "_dom_classes": [],
       "_model_module": "@jupyter-widgets/controls",
       "_model_module_version": "2.0.0",
       "_model_name": "HBoxModel",
       "_view_count": null,
       "_view_module": "@jupyter-widgets/controls",
       "_view_module_version": "2.0.0",
       "_view_name": "HBoxView",
       "box_style": "",
       "children": [
        "IPY_MODEL_0491424390644ec989142c7d87cab608",
        "IPY_MODEL_0d92f594b5724f7c8899e1a3642b5f70",
        "IPY_MODEL_d46f6988ed2844fbab49557d7ae8e832"
       ],
       "layout": "IPY_MODEL_9790e1d736cb47ada8df66a13d52e1f4",
       "tabbable": null,
       "tooltip": null
      }
     },
     "3c115e4b246442f9af276a4c590226e4": {
      "model_module": "@jupyter-widgets/base",
      "model_module_version": "2.0.0",
      "model_name": "LayoutModel",
      "state": {
       "_model_module": "@jupyter-widgets/base",
       "_model_module_version": "2.0.0",
       "_model_name": "LayoutModel",
       "_view_count": null,
       "_view_module": "@jupyter-widgets/base",
       "_view_module_version": "2.0.0",
       "_view_name": "LayoutView",
       "align_content": null,
       "align_items": null,
       "align_self": null,
       "border_bottom": null,
       "border_left": null,
       "border_right": null,
       "border_top": null,
       "bottom": null,
       "display": null,
       "flex": null,
       "flex_flow": null,
       "grid_area": null,
       "grid_auto_columns": null,
       "grid_auto_flow": null,
       "grid_auto_rows": null,
       "grid_column": null,
       "grid_gap": null,
       "grid_row": null,
       "grid_template_areas": null,
       "grid_template_columns": null,
       "grid_template_rows": null,
       "height": null,
       "justify_content": null,
       "justify_items": null,
       "left": null,
       "margin": null,
       "max_height": null,
       "max_width": null,
       "min_height": null,
       "min_width": null,
       "object_fit": null,
       "object_position": null,
       "order": null,
       "overflow": null,
       "padding": null,
       "right": null,
       "top": null,
       "visibility": null,
       "width": null
      }
     },
     "6bcb5bfbaa1d4983bb07310019e75af1": {
      "model_module": "@jupyter-widgets/controls",
      "model_module_version": "2.0.0",
      "model_name": "ProgressStyleModel",
      "state": {
       "_model_module": "@jupyter-widgets/controls",
       "_model_module_version": "2.0.0",
       "_model_name": "ProgressStyleModel",
       "_view_count": null,
       "_view_module": "@jupyter-widgets/base",
       "_view_module_version": "2.0.0",
       "_view_name": "StyleView",
       "bar_color": null,
       "description_width": ""
      }
     },
     "9790e1d736cb47ada8df66a13d52e1f4": {
      "model_module": "@jupyter-widgets/base",
      "model_module_version": "2.0.0",
      "model_name": "LayoutModel",
      "state": {
       "_model_module": "@jupyter-widgets/base",
       "_model_module_version": "2.0.0",
       "_model_name": "LayoutModel",
       "_view_count": null,
       "_view_module": "@jupyter-widgets/base",
       "_view_module_version": "2.0.0",
       "_view_name": "LayoutView",
       "align_content": null,
       "align_items": null,
       "align_self": null,
       "border_bottom": null,
       "border_left": null,
       "border_right": null,
       "border_top": null,
       "bottom": null,
       "display": null,
       "flex": null,
       "flex_flow": null,
       "grid_area": null,
       "grid_auto_columns": null,
       "grid_auto_flow": null,
       "grid_auto_rows": null,
       "grid_column": null,
       "grid_gap": null,
       "grid_row": null,
       "grid_template_areas": null,
       "grid_template_columns": null,
       "grid_template_rows": null,
       "height": null,
       "justify_content": null,
       "justify_items": null,
       "left": null,
       "margin": null,
       "max_height": null,
       "max_width": null,
       "min_height": null,
       "min_width": null,
       "object_fit": null,
       "object_position": null,
       "order": null,
       "overflow": null,
       "padding": null,
       "right": null,
       "top": null,
       "visibility": null,
       "width": null
      }
     },
     "9863b7eb1fec48c4b7f715d86af9d505": {
      "model_module": "@jupyter-widgets/base",
      "model_module_version": "2.0.0",
      "model_name": "LayoutModel",
      "state": {
       "_model_module": "@jupyter-widgets/base",
       "_model_module_version": "2.0.0",
       "_model_name": "LayoutModel",
       "_view_count": null,
       "_view_module": "@jupyter-widgets/base",
       "_view_module_version": "2.0.0",
       "_view_name": "LayoutView",
       "align_content": null,
       "align_items": null,
       "align_self": null,
       "border_bottom": null,
       "border_left": null,
       "border_right": null,
       "border_top": null,
       "bottom": null,
       "display": null,
       "flex": null,
       "flex_flow": null,
       "grid_area": null,
       "grid_auto_columns": null,
       "grid_auto_flow": null,
       "grid_auto_rows": null,
       "grid_column": null,
       "grid_gap": null,
       "grid_row": null,
       "grid_template_areas": null,
       "grid_template_columns": null,
       "grid_template_rows": null,
       "height": null,
       "justify_content": null,
       "justify_items": null,
       "left": null,
       "margin": null,
       "max_height": null,
       "max_width": null,
       "min_height": null,
       "min_width": null,
       "object_fit": null,
       "object_position": null,
       "order": null,
       "overflow": null,
       "padding": null,
       "right": null,
       "top": null,
       "visibility": null,
       "width": null
      }
     },
     "c425de47f16346b0b7a975c748645722": {
      "model_module": "@jupyter-widgets/controls",
      "model_module_version": "2.0.0",
      "model_name": "HTMLStyleModel",
      "state": {
       "_model_module": "@jupyter-widgets/controls",
       "_model_module_version": "2.0.0",
       "_model_name": "HTMLStyleModel",
       "_view_count": null,
       "_view_module": "@jupyter-widgets/base",
       "_view_module_version": "2.0.0",
       "_view_name": "StyleView",
       "background": null,
       "description_width": "",
       "font_size": null,
       "text_color": null
      }
     },
     "cc97aef76bcc41109a06b88c0f9d0b34": {
      "model_module": "@jupyter-widgets/base",
      "model_module_version": "2.0.0",
      "model_name": "LayoutModel",
      "state": {
       "_model_module": "@jupyter-widgets/base",
       "_model_module_version": "2.0.0",
       "_model_name": "LayoutModel",
       "_view_count": null,
       "_view_module": "@jupyter-widgets/base",
       "_view_module_version": "2.0.0",
       "_view_name": "LayoutView",
       "align_content": null,
       "align_items": null,
       "align_self": null,
       "border_bottom": null,
       "border_left": null,
       "border_right": null,
       "border_top": null,
       "bottom": null,
       "display": null,
       "flex": null,
       "flex_flow": null,
       "grid_area": null,
       "grid_auto_columns": null,
       "grid_auto_flow": null,
       "grid_auto_rows": null,
       "grid_column": null,
       "grid_gap": null,
       "grid_row": null,
       "grid_template_areas": null,
       "grid_template_columns": null,
       "grid_template_rows": null,
       "height": null,
       "justify_content": null,
       "justify_items": null,
       "left": null,
       "margin": null,
       "max_height": null,
       "max_width": null,
       "min_height": null,
       "min_width": null,
       "object_fit": null,
       "object_position": null,
       "order": null,
       "overflow": null,
       "padding": null,
       "right": null,
       "top": null,
       "visibility": null,
       "width": null
      }
     },
     "d46f6988ed2844fbab49557d7ae8e832": {
      "model_module": "@jupyter-widgets/controls",
      "model_module_version": "2.0.0",
      "model_name": "HTMLModel",
      "state": {
       "_dom_classes": [],
       "_model_module": "@jupyter-widgets/controls",
       "_model_module_version": "2.0.0",
       "_model_name": "HTMLModel",
       "_view_count": null,
       "_view_module": "@jupyter-widgets/controls",
       "_view_module_version": "2.0.0",
       "_view_name": "HTMLView",
       "description": "",
       "description_allow_html": false,
       "layout": "IPY_MODEL_cc97aef76bcc41109a06b88c0f9d0b34",
       "placeholder": "​",
       "style": "IPY_MODEL_e60e4c126fd84bd396a51d1a3c63f45e",
       "tabbable": null,
       "tooltip": null,
       "value": " 10000/10000 [00:13&lt;00:00, 732.56it/s]"
      }
     },
     "e60e4c126fd84bd396a51d1a3c63f45e": {
      "model_module": "@jupyter-widgets/controls",
      "model_module_version": "2.0.0",
      "model_name": "HTMLStyleModel",
      "state": {
       "_model_module": "@jupyter-widgets/controls",
       "_model_module_version": "2.0.0",
       "_model_name": "HTMLStyleModel",
       "_view_count": null,
       "_view_module": "@jupyter-widgets/base",
       "_view_module_version": "2.0.0",
       "_view_name": "StyleView",
       "background": null,
       "description_width": "",
       "font_size": null,
       "text_color": null
      }
     }
    },
    "version_major": 2,
    "version_minor": 0
   }
  }
 },
 "nbformat": 4,
 "nbformat_minor": 5
}
